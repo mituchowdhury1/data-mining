{
  "nbformat": 4,
  "nbformat_minor": 0,
  "metadata": {
    "colab": {
      "provenance": [],
      "authorship_tag": "ABX9TyMfabxTpJAippTOb59r3Qf/",
      "include_colab_link": true
    },
    "kernelspec": {
      "name": "python3",
      "display_name": "Python 3"
    },
    "language_info": {
      "name": "python"
    }
  },
  "cells": [
    {
      "cell_type": "markdown",
      "metadata": {
        "id": "view-in-github",
        "colab_type": "text"
      },
      "source": [
        "<a href=\"https://colab.research.google.com/github/mituchowdhury1/data-mining/blob/main/ASSIGNMENT_1.ipynb\" target=\"_parent\"><img src=\"https://colab.research.google.com/assets/colab-badge.svg\" alt=\"Open In Colab\"/></a>"
      ]
    },
    {
      "cell_type": "markdown",
      "source": [
        "### Name: Mitu\n",
        "### ID: 2125051019"
      ],
      "metadata": {
        "id": "ppx7N9KivSQj"
      }
    },
    {
      "cell_type": "code",
      "source": [
        "from google.colab import drive\n",
        "drive.mount('/content/drive')"
      ],
      "metadata": {
        "colab": {
          "base_uri": "https://localhost:8080/"
        },
        "id": "KCz6v5q9TSrD",
        "outputId": "22faeae7-4bb0-4f24-8516-6460c0a129cf"
      },
      "execution_count": null,
      "outputs": [
        {
          "output_type": "stream",
          "name": "stdout",
          "text": [
            "Mounted at /content/drive\n"
          ]
        }
      ]
    },
    {
      "cell_type": "code",
      "source": [
        "# Import Libraries\n",
        "import pandas as pd\n",
        "import numpy as np\n",
        "from sklearn.metrics.pairwise import cosine_similarity\n",
        "\n",
        "# Step 1: Load the Dataset\n",
        "ratings = pd.read_csv('/content/drive/MyDrive/Data mining/ratings.csv')\n",
        "movies = pd.read_csv('/content/drive/MyDrive/Data mining/movies.csv')\n",
        "\n",
        "# Step 2: Create User-Movie Rating Matrix\n",
        "user_movie_matrix = ratings.pivot_table(index='userId', columns='movieId', values='rating')\n",
        "user_movie_matrix_filled = user_movie_matrix.fillna(0)\n",
        "\n",
        "# Step 3: Compute Movie Similarity Matrix\n",
        "movie_similarity = cosine_similarity(user_movie_matrix_filled.T)\n",
        "movie_similarity_df = pd.DataFrame(movie_similarity,\n",
        "                                   index=user_movie_matrix.columns,\n",
        "                                   columns=user_movie_matrix.columns)\n",
        "\n",
        "# Step 4: Find Movies Similar to a Given Movie\n",
        "def get_similar_movies(movie_id, top_n=5):\n",
        "    if movie_id not in movie_similarity_df.columns:\n",
        "        print(\"Movie ID not found.\")\n",
        "        return pd.DataFrame()\n",
        "\n",
        "    similar_scores = movie_similarity_df[movie_id]\n",
        "    similar_movies = similar_scores.sort_values(ascending=False).drop(movie_id)\n",
        "    top_similar = similar_movies.head(top_n)\n",
        "\n",
        "    return movies[movies['movieId'].isin(top_similar.index)]\n",
        "\n",
        "# Step 5: Recommend Movies for a User\n",
        "def recommend_movies_for_user(user_id, top_n=5):\n",
        "    if user_id not in user_movie_matrix.index:\n",
        "        print(\"User ID not found.\")\n",
        "        return pd.DataFrame()\n",
        "\n",
        "    # Movies rated by the user\n",
        "    user_ratings = user_movie_matrix.loc[user_id]\n",
        "    rated_movies = user_ratings[user_ratings.notna()].index.tolist()\n",
        "\n",
        "    # Top 3 highest-rated movies\n",
        "    top_rated_movies = user_ratings.sort_values(ascending=False).head(3).index.tolist()\n",
        "\n",
        "    similar_movies_list = []  # Fixed: use list instead of append\n",
        "\n",
        "    for movie_id in top_rated_movies:\n",
        "        similar = movie_similarity_df[movie_id]\n",
        "        similar = similar.drop(movie_id)\n",
        "        similar_movies_list.append(similar)\n",
        "\n",
        "    # Combine all similar movies\n",
        "    similar_movies = pd.concat(similar_movies_list)\n",
        "\n",
        "    # Remove already rated movies\n",
        "    similar_movies = similar_movies[~similar_movies.index.isin(rated_movies)]\n",
        "\n",
        "    # Group by movie ID and take mean similarity\n",
        "    similar_movies = similar_movies.groupby(similar_movies.index).mean()\n",
        "\n",
        "    # Merge with average ratings\n",
        "    avg_movie_ratings = ratings.groupby('movieId')['rating'].mean()\n",
        "    recommendations = similar_movies.to_frame('similarity').join(avg_movie_ratings, how='left')\n",
        "\n",
        "    # Calculate final score\n",
        "    recommendations['final_score'] = recommendations['similarity'] * 0.7 + recommendations['rating'] * 0.3\n",
        "\n",
        "    top_recommendations = recommendations.sort_values('final_score', ascending=False).head(top_n)\n",
        "\n",
        "    return movies[movies['movieId'].isin(top_recommendations.index)]\n",
        "\n",
        "# ============================\n",
        "# Example Usage\n",
        "# ============================\n",
        "\n",
        "# 1. Find movies similar to Toy Story\n",
        "print(\"\\n🎬 Movies similar to 'Toy Story (1995)':\")\n",
        "toy_story_id = movies[movies['title'] == 'Toy Story (1995)']['movieId'].values[0]\n",
        "similar_to_toy_story = get_similar_movies(toy_story_id, top_n=5)\n",
        "print(similar_to_toy_story[['title', 'genres']])\n",
        "\n",
        "# 2. Recommend movies for userId = 1\n",
        "print(\"\\n👤 Recommended movies for User 1:\")\n",
        "recommendations = recommend_movies_for_user(1, top_n=5)\n",
        "print(recommendations[['title', 'genres']])\n"
      ],
      "metadata": {
        "colab": {
          "base_uri": "https://localhost:8080/"
        },
        "id": "7NiEm9guVM6z",
        "outputId": "e50aa561-1c73-4780-f3cf-7036854fe47d"
      },
      "execution_count": null,
      "outputs": [
        {
          "output_type": "stream",
          "name": "stdout",
          "text": [
            "\n",
            "🎬 Movies similar to 'Toy Story (1995)':\n",
            "                                          title  \\\n",
            "224   Star Wars: Episode IV - A New Hope (1977)   \n",
            "314                         Forrest Gump (1994)   \n",
            "418                        Jurassic Park (1993)   \n",
            "615        Independence Day (a.k.a. ID4) (1996)   \n",
            "2355                         Toy Story 2 (1999)   \n",
            "\n",
            "                                           genres  \n",
            "224                       Action|Adventure|Sci-Fi  \n",
            "314                      Comedy|Drama|Romance|War  \n",
            "418              Action|Adventure|Sci-Fi|Thriller  \n",
            "615              Action|Adventure|Sci-Fi|Thriller  \n",
            "2355  Adventure|Animation|Children|Comedy|Fantasy  \n",
            "\n",
            "👤 Recommended movies for User 1:\n",
            "                                 title                 genres\n",
            "277   Shawshank Redemption, The (1994)            Crime|Drama\n",
            "659              Godfather, The (1972)            Crime|Drama\n",
            "3110        Reform School Girls (1986)           Action|Drama\n",
            "3807                       Rain (2001)          Drama|Romance\n",
            "3852                    Cherish (2002)  Comedy|Drama|Thriller\n"
          ]
        }
      ]
    }
  ]
}